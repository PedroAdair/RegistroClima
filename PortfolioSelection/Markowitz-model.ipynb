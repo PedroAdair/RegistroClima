{
 "cells": [
  {
   "cell_type": "code",
   "execution_count": 5,
   "metadata": {},
   "outputs": [],
   "source": [
    "import math\n",
    "import numpy as np\n",
    "import pandas as pd\n",
    "import yfinance as yf\n",
    "from pypfopt.efficient_frontier import EfficientFrontier\n",
    "from func import *\n",
    "pd.DataFrame.iteritems = pd.DataFrame.items"
   ]
  },
  {
   "cell_type": "code",
   "execution_count": 11,
   "metadata": {},
   "outputs": [],
   "source": [
    "portfolio  = ['AAPL',\t'MSFT',\t'AMZN',\t'TSLA', 'BABA']\n",
    "n_samples = 500\n",
    "path = 'dataAdjClose.csv'\n",
    "max_len_portfolio = 10\n",
    "type_prize = 'Close' #Open\tHigh\tLow\tClose\n",
    "period = '5y'"
   ]
  },
  {
   "cell_type": "code",
   "execution_count": 12,
   "metadata": {},
   "outputs": [],
   "source": [
    "def suboptimal_investment_portfolio(portfolio):\n",
    "  suboptimal_portfolio = []\n",
    "\n",
    "  # Iteramos y asignamos proporción igualitaria de inversión a cada\n",
    "  # activo del portafolio.\n",
    "  for x in portfolio:\n",
    "    suboptimal_portfolio.append(1/len(portfolio))\n",
    "\n",
    "  suboptimal_portfolio = np.array(suboptimal_portfolio)\n",
    "  return suboptimal_portfolio"
   ]
  },
  {
   "cell_type": "code",
   "execution_count": 15,
   "metadata": {},
   "outputs": [
    {
     "name": "stdout",
     "output_type": "stream",
     "text": [
      "PORTAFOLIO ÓPTIMO DE MARKOWITZ:\n",
      "Rendimiento esperado: [0.09885579]\n",
      "Varianza del portafolio: [[0.03085381]]\n",
      "Riesgo del portafolio: 1.7565251996461473\n",
      "\n",
      "\n",
      "Del 100% de tu capital, el modelo sugiereinvertir las siguientes proporciones en cada activo:\n"
     ]
    },
    {
     "name": "stderr",
     "output_type": "stream",
     "text": [
      "/tmp/ipykernel_30474/2863779071.py:62: DeprecationWarning: Conversion of an array with ndim > 0 to a scalar is deprecated, and will error in future. Ensure you extract a single element from your array before performing this operation. (Deprecated NumPy 1.25.)\n",
      "  opt_portfolio_risk = math.sqrt(opt_portfolio_var)\n"
     ]
    },
    {
     "data": {
      "text/plain": [
       "AAPL    28.108995\n",
       "MSFT    42.232279\n",
       "AMZN    16.041771\n",
       "TSLA     0.000000\n",
       "BABA    13.616955\n",
       "dtype: float64"
      ]
     },
     "metadata": {},
     "output_type": "display_data"
    }
   ],
   "source": [
    "\n",
    "if len(portfolio) > max_len_portfolio:\n",
    "  raise Exception (f'El número máximo de activos en el portafolio es de {max_len_portfolio}')\n",
    "else:\n",
    "    stock_prices = pd.DataFrame()\n",
    "    stock_returns = pd.DataFrame()\n",
    "\n",
    "    for x in portfolio:\n",
    "        stock = yf.Ticker(x)\n",
    "        close_price = stock.history(period=period)[type_prize]\n",
    "\n",
    "        # Se insertan datos en stock_prices y stock_returns\n",
    "        stock_prices = pd.concat([stock_prices, close_price], axis=1)\n",
    "        # Con pct_change() obtenemos los rendimientos (cambio porcentual)\n",
    "        stock_returns = pd.concat([stock_returns, close_price.pct_change()], axis=1)\n",
    "\n",
    "# Asignamos nombre de acciones a las columnas de cada DataFrame\n",
    "\n",
    "stock_prices.columns = portfolio\n",
    "stock_returns.columns = portfolio\n",
    "\n",
    "# Eliminamos valores nulos de las columnas con dropna()\n",
    "# (El primer valor de rendimiento es nulo)\n",
    "\n",
    "stock_returns = stock_returns.dropna()\n",
    "\n",
    "# # Ver los datos generados:\n",
    "# print('Precios diarios, últimos 5 años (máximo)')\n",
    "# display(stock_prices)\n",
    "# print('Rendimientos diarios, últimos 5 años (máximo)')\n",
    "# display(stock_returns)\n",
    "\n",
    "# Rendimiento esperado de activos\n",
    "expected_stock_returns = []\n",
    "\n",
    "# Riesgo individual de activos\n",
    "individual_stock_risk = []\n",
    "\n",
    "for x, y in stock_returns.iteritems():\n",
    "  # En cada iteración se obtiene el rendimiento esperado y riesgo individual\n",
    "  # de cada activo (media y desviación estándar)\n",
    "  expected_stock_returns.append(y.mean())\n",
    "  individual_stock_risk.append(y.std())\n",
    "\n",
    "stock_returns_cov_matrix = np.array(stock_returns.cov())\n",
    "\n",
    "### OPTIMIZACION DE MARKOWITZ ###\n",
    "ef = EfficientFrontier(expected_stock_returns, stock_returns_cov_matrix, weight_bounds=(0,1))\n",
    "ratios = ef.min_volatility()\n",
    "cleaned_ratios = pd.Series(ratios)\n",
    "cleaned_ratios.index = portfolio\n",
    "\n",
    "optimal_portfolio = np.expand_dims(cleaned_ratios, axis=0)\n",
    "\n",
    "# Rendimiento esperado\n",
    "opt_portfolio_expected_return = np.matmul(optimal_portfolio, expected_stock_returns)\n",
    "\n",
    "# Varianza del portafolio\n",
    "opt_portfolio_var = np.matmul(optimal_portfolio, \\\n",
    "                              np.matmul(stock_returns_cov_matrix, optimal_portfolio.transpose()))\n",
    "\n",
    "# Riesgo del portafolio\n",
    "opt_portfolio_risk = math.sqrt(opt_portfolio_var)\n",
    "\n",
    "# Ver datos obtenidos y Portafolio Óptimo de Markowitz:\n",
    "print('PORTAFOLIO ÓPTIMO DE MARKOWITZ:')\n",
    "print(f'Rendimiento esperado: {opt_portfolio_expected_return*100}')\n",
    "print(f'Varianza del portafolio: {opt_portfolio_var*100}')\n",
    "print(f'Riesgo del portafolio: {opt_portfolio_risk*100}')\n",
    "\n",
    "print('\\n\\nDel 100% de tu capital, el modelo sugiere\\\n",
    "invertir las siguientes proporciones en cada activo:')\n",
    "display(cleaned_ratios*100)\n",
    "     "
   ]
  }
 ],
 "metadata": {
  "kernelspec": {
   "display_name": "Financiero",
   "language": "python",
   "name": "python3"
  },
  "language_info": {
   "codemirror_mode": {
    "name": "ipython",
    "version": 3
   },
   "file_extension": ".py",
   "mimetype": "text/x-python",
   "name": "python",
   "nbconvert_exporter": "python",
   "pygments_lexer": "ipython3",
   "version": "3.9.18"
  }
 },
 "nbformat": 4,
 "nbformat_minor": 2
}
