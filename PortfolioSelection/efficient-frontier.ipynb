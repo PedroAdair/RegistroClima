{
 "cells": [
  {
   "cell_type": "code",
   "execution_count": 1,
   "metadata": {},
   "outputs": [],
   "source": [
    "import numpy as np\n",
    "import matplotlib.pyplot as plt\n",
    "from func import *"
   ]
  },
  {
   "cell_type": "code",
   "execution_count": 2,
   "metadata": {},
   "outputs": [],
   "source": [
    "asssets = ['AAPL',\t'MSFT',\t'AMZN',\t'TSLA']\n",
    "n_samples = 500\n",
    "path = 'dataAdjClose.csv'"
   ]
  },
  {
   "cell_type": "markdown",
   "metadata": {},
   "source": [
    "usaremos los retornos logaritmicos:\n",
    "*  d"
   ]
  },
  {
   "cell_type": "code",
   "execution_count": 48,
   "metadata": {},
   "outputs": [],
   "source": [
    "df_complete = load_DB(path=path)  \n",
    "df_complete['Date'] = pd.to_datetime(df_complete['Date']) #change str to datetime Date column\n",
    "df_complete= df_complete.set_index('Date') # return the date column as index\n",
    "filter_df   = df_complete[asssets] # filter about assets list \n",
    "df_stocks =  filter_df.dropna() #drop NA records\n",
    "\n",
    "df_stocks_log_returnns  = np.log(df_stocks/df_stocks.shift(1))\n",
    "df_stocks_log_returnns.dropna(inplace=True)\n",
    "#mean\n",
    "df_avg_returns = df_stocks_log_returnns.mean()\n",
    "#calcular la desviacion estandar\n",
    "df_std = df_stocks_log_returnns.std()\n",
    "\n",
    "#create a df with porfolio\n",
    "df_stock_portfolio = pd.DataFrame(columns=asssets,index=['avg_returns', 'std_dev'])\n",
    "df_stock_portfolio.loc['avg_returns'] = df_avg_returns\n",
    "df_stock_portfolio.loc['std_dev'] =  df_std\n",
    "\n",
    "weights = np.arange(0, 1.01, 0.01)"
   ]
  },
  {
   "cell_type": "code",
   "execution_count": 51,
   "metadata": {},
   "outputs": [
    {
     "data": {
      "text/plain": [
       "array([[0.  , 0.  ],\n",
       "       [0.  , 0.01],\n",
       "       [0.  , 0.02],\n",
       "       ...,\n",
       "       [1.  , 0.98],\n",
       "       [1.  , 0.99],\n",
       "       [1.  , 1.  ]])"
      ]
     },
     "execution_count": 51,
     "metadata": {},
     "output_type": "execute_result"
    }
   ],
   "source": [
    "weights*100\n",
    "np.array(np.meshgrid(weights, weights)).T.reshape(-1,2)"
   ]
  }
 ],
 "metadata": {
  "kernelspec": {
   "display_name": "Financiero",
   "language": "python",
   "name": "python3"
  },
  "language_info": {
   "codemirror_mode": {
    "name": "ipython",
    "version": 3
   },
   "file_extension": ".py",
   "mimetype": "text/x-python",
   "name": "python",
   "nbconvert_exporter": "python",
   "pygments_lexer": "ipython3",
   "version": "3.9.18"
  }
 },
 "nbformat": 4,
 "nbformat_minor": 2
}
