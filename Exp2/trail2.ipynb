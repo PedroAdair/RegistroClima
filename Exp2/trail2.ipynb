{
 "cells": [
  {
   "cell_type": "code",
   "execution_count": 1,
   "metadata": {},
   "outputs": [],
   "source": [
    "from func import *"
   ]
  },
  {
   "cell_type": "code",
   "execution_count": 8,
   "metadata": {},
   "outputs": [],
   "source": [
    "report  = CreateReport(code_name='Atlixco')\n"
   ]
  },
  {
   "cell_type": "code",
   "execution_count": 25,
   "metadata": {},
   "outputs": [],
   "source": [
    "with open(\"config.yaml\", \"r\") as f:\n",
    "    config = yaml.safe_load(f)"
   ]
  },
  {
   "cell_type": "code",
   "execution_count": 40,
   "metadata": {},
   "outputs": [
    {
     "name": "stdout",
     "output_type": "stream",
     "text": [
      "coneccion exitosa a la coleccion: Ecoterra.alerts\n",
      "coneccion exitosa a la coleccion: Ecoterra.weather\n"
     ]
    },
    {
     "data": {
      "text/plain": [
       "'En la ciudad de Atlixco a las 09:12 del 26-02-2024 se tiene registrada una temperatura de 18.23 °C. Se tienen los siguientes advertencias y notificaciones sobre el clima: None, dichas alertas ya fueron enviadas a los siguientes correos: proyectoconstanza01@gmail.com ,ferphoenix1@gmail.com '"
      ]
     },
     "execution_count": 40,
     "metadata": {},
     "output_type": "execute_result"
    }
   ],
   "source": [
    "nott_and_report  = NotificationsAndWarmings(code_name='Atlixco')\n",
    "if   bool(nott_and_report):\n",
    "    text_report = f\"\"\"En la ciudad de {report['code name']} a las {report['time'].split(' ')[-1]} del {report['time'].split(' ')[0]} se tiene registrada una temperatura de {report['temp_report']['Value']} {report['temp_report']['Unit']}. No existen advertencias ni alertas sobre las \"\"\"\n",
    "else:\n",
    "    text_report = f\"\"\"En la ciudad de {report['code name']} a las {report['time'].split(' ')[-1]} del {report['time'].split(' ')[0]} se tiene registrada una temperatura de {report['temp_report']['Value']} {report['temp_report']['Unit']}. Se tienen los siguientes advertencias y notificaciones sobre el clima: {nott_and_report}, dichas alertas ya fueron enviadas a los siguientes correos: {', '.join(config['email_notification'])} \"\"\"\n",
    "    \n",
    "text_report "
   ]
  },
  {
   "cell_type": "code",
   "execution_count": 34,
   "metadata": {},
   "outputs": [
    {
     "data": {
      "text/plain": [
       "True"
      ]
     },
     "execution_count": 34,
     "metadata": {},
     "output_type": "execute_result"
    }
   ],
   "source": [
    "\n",
    "not bool(nott_and_report)"
   ]
  }
 ],
 "metadata": {
  "kernelspec": {
   "display_name": "OpenWeather",
   "language": "python",
   "name": "python3"
  },
  "language_info": {
   "codemirror_mode": {
    "name": "ipython",
    "version": 3
   },
   "file_extension": ".py",
   "mimetype": "text/x-python",
   "name": "python",
   "nbconvert_exporter": "python",
   "pygments_lexer": "ipython3",
   "version": "3.9.18"
  }
 },
 "nbformat": 4,
 "nbformat_minor": 2
}
