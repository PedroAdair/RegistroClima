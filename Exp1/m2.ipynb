{
 "cells": [
  {
   "cell_type": "code",
   "execution_count": 1,
   "metadata": {},
   "outputs": [],
   "source": [
    "import json\n",
    "import yaml\n",
    "import requests\n",
    "import folium\n",
    "from pymongo import MongoClient\n",
    "import logging\n",
    "logging.basicConfig(filename='log.log', level=logging.DEBUG, format='%(asctime)s - %(levelname)s - %(message)s')\n",
    "with open(\"config.yaml\", \"r\") as f:\n",
    "    config = yaml.safe_load(f)\n",
    "\n",
    "\n",
    "import random"
   ]
  },
  {
   "cell_type": "markdown",
   "metadata": {},
   "source": [
    "## Weather"
   ]
  },
  {
   "cell_type": "code",
   "execution_count": 2,
   "metadata": {},
   "outputs": [],
   "source": [
    "def GetWeather(coord:list):\n",
    "    \"\"\"Coordinates coord= [lat, lon], where lat, lon is latitude and longitude in type float. \\n\n",
    "    Example: [19.29586, -97.768889]. \\n\n",
    "    Invalid formats: 18°55'22.8\\\" N 98°23'44.3\\\"W\"\"\"\n",
    "    lat= coord[0]\n",
    "    lon = coord[1]\n",
    "    API_key=config['API_key']\n",
    "    url = f'https://api.openweathermap.org/data/2.5/weather?lat={lat}&lon={lon}&appid={API_key}&units=metric'\n",
    "    response = requests.get(url)\n",
    "    data_weather = response.json()\n",
    "    return data_weather   "
   ]
  },
  {
   "cell_type": "code",
   "execution_count": 3,
   "metadata": {},
   "outputs": [],
   "source": [
    "def verification(diccionario, valor):\n",
    "\n",
    "    for calidad, rango in diccionario.items():\n",
    "        if 'min' in rango and 'max' in rango:\n",
    "            if rango['min'] <= valor < rango['max']:\n",
    "                return calidad\n",
    "        elif 'min' in rango and valor >= rango['min']:\n",
    "            return calidad\n",
    "\n",
    "    return None"
   ]
  },
  {
   "cell_type": "markdown",
   "metadata": {},
   "source": [
    "### Wind"
   ]
  },
  {
   "cell_type": "markdown",
   "metadata": {},
   "source": [
    "|Qualitative name   |Index  |     wind      |\n",
    "|-------------------|-------|---------------|\n",
    "|Calmed down \t    |1 \t    |[0;1.4) \t    |\n",
    "|Soft breeze        |2 \t    |[1.4; 5.4) \t|\n",
    "|Moderate Breeze    |3 \t    |[5.4; 10.6) \t|\n",
    "|Strong wind        |4 \t    |[10.6; 17)     |\n",
    "|Storm   \t        |5 \t    |⩾17 \t        |\n",
    "\n",
    "\n",
    "Unidad: $m/s$   "
   ]
  },
  {
   "cell_type": "code",
   "execution_count": 8,
   "metadata": {},
   "outputs": [],
   "source": [
    "data_weather = GetWeather(config['cities']['Atlixco'])\n",
    "wind_speed = data_weather['wind']['speed']\n",
    "wind_gust = data_weather['wind']['gust']"
   ]
  },
  {
   "cell_type": "code",
   "execution_count": 15,
   "metadata": {},
   "outputs": [],
   "source": [
    "def check_wind_speed(diccionario:dict, valor:float):\n",
    "    Index= {'Calmed down':1, 'Soft breeze':2, 'Moderate Breeze':3, 'Strong wind': 4, 'Storm':5, None: 0}\n",
    "    ver_txt = verification(diccionario, valor)\n",
    "    return (ver_txt, Index[ver_txt], valor, 'm/s')"
   ]
  },
  {
   "cell_type": "code",
   "execution_count": 18,
   "metadata": {},
   "outputs": [
    {
     "name": "stdout",
     "output_type": "stream",
     "text": [
      "0.48\n"
     ]
    },
    {
     "data": {
      "text/plain": [
       "('Calmed down', 1, 0.48, 'm/s')"
      ]
     },
     "execution_count": 18,
     "metadata": {},
     "output_type": "execute_result"
    }
   ],
   "source": [
    "windStandars =  config['notifications']['weather']['wind']\n",
    "print(wind_speed)\n",
    "check_wind_speed(windStandars,wind_speed)\n"
   ]
  },
  {
   "cell_type": "markdown",
   "metadata": {},
   "source": [
    "### Temp"
   ]
  },
  {
   "cell_type": "markdown",
   "metadata": {},
   "source": [
    "|Qualitative name  |Index  |     wind      |\n",
    "|------------------|-------|---------------|\n",
    "|Frozen\t           |1 \t    |[-20,0) \t    |\n",
    "|Cold              |2 \t    |[0,10) \t|\n",
    "|Moderate          |3 \t    |[10,25) \t|\n",
    "|Warm              |4 \t    |[25,35)     |\n",
    "|Very warm         |5 \t    |⩾35        |\n",
    "\n",
    "\n",
    "Unidad: $°C$   \n"
   ]
  },
  {
   "cell_type": "code",
   "execution_count": 23,
   "metadata": {},
   "outputs": [],
   "source": [
    "data_weather = GetWeather(config['cities']['Atlixco'])\n",
    "\n",
    "temp = data_weather['main']['temp'] #°C\n",
    "humidity = data_weather['main']['humidity'] # Humidity, %"
   ]
  },
  {
   "cell_type": "code",
   "execution_count": 30,
   "metadata": {},
   "outputs": [],
   "source": [
    "def check_temp(diccionario:dict, valor:float):\n",
    "    Index= {'Frozen':1, 'Cold':2, 'Moderate':3, 'Warm': 4, 'Very warm':5, None: 0}\n",
    "    ver_txt = verification(diccionario, valor)\n",
    "    return {'Qualitative name': ver_txt,'Index': Index[ver_txt], 'Value': valor, 'Unit': '°C'}\n"
   ]
  },
  {
   "cell_type": "code",
   "execution_count": 29,
   "metadata": {},
   "outputs": [
    {
     "name": "stdout",
     "output_type": "stream",
     "text": [
      "25.12\n"
     ]
    },
    {
     "data": {
      "text/plain": [
       "('Warm', 4, 25.12, '°C')"
      ]
     },
     "execution_count": 29,
     "metadata": {},
     "output_type": "execute_result"
    }
   ],
   "source": [
    "weatherStandars =  config['notifications']['weather']['temp']\n",
    "print(temp)\n",
    "check_temp(weatherStandars,temp)"
   ]
  }
 ],
 "metadata": {
  "kernelspec": {
   "display_name": "OpenWeather",
   "language": "python",
   "name": "python3"
  },
  "language_info": {
   "codemirror_mode": {
    "name": "ipython",
    "version": 3
   },
   "file_extension": ".py",
   "mimetype": "text/x-python",
   "name": "python",
   "nbconvert_exporter": "python",
   "pygments_lexer": "ipython3",
   "version": "3.9.18"
  }
 },
 "nbformat": 4,
 "nbformat_minor": 2
}
