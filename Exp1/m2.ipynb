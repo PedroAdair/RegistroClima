{
 "cells": [
  {
   "cell_type": "code",
   "execution_count": 1,
   "metadata": {},
   "outputs": [],
   "source": [
    "import json\n",
    "import yaml\n",
    "import requests\n",
    "import folium\n",
    "\n",
    "from datetime import datetime\n",
    "from pymongo import MongoClient\n",
    "import logging\n",
    "logging.basicConfig(filename='log.log', level=logging.DEBUG, format='%(asctime)s - %(levelname)s - %(message)s')\n",
    "with open(\"config.yaml\", \"r\") as f:\n",
    "    config = yaml.safe_load(f)\n",
    "\n",
    "\n",
    "import random"
   ]
  },
  {
   "cell_type": "code",
   "execution_count": 2,
   "metadata": {},
   "outputs": [],
   "source": [
    "def coneccionDB(mongo_uri:str,database_name:str,collection_name:str):\n",
    "    \"coneccion a una colecccion en base de datos\"\n",
    "    try:\n",
    "        client = MongoClient(mongo_uri)\n",
    "        db = client[database_name]\n",
    "        collection = db[collection_name]\n",
    "        print(f'coneccion exitosa a la coleccion: {database_name}.{collection_name}')\n",
    "        return collection \n",
    "    except Exception as e:\n",
    "        logging.warning(e)"
   ]
  },
  {
   "cell_type": "markdown",
   "metadata": {},
   "source": [
    "## Weather"
   ]
  },
  {
   "cell_type": "code",
   "execution_count": 3,
   "metadata": {},
   "outputs": [],
   "source": [
    "def GetWeather(coord:list):\n",
    "    \"\"\"Coordinates coord= [lat, lon], where lat, lon is latitude and longitude in type float. \\n\n",
    "    Example: [19.29586, -97.768889]. \\n\n",
    "    Invalid formats: 18°55'22.8\\\" N 98°23'44.3\\\"W\"\"\"\n",
    "    lat= coord[0]\n",
    "    lon = coord[1]\n",
    "    API_key=config['API_key']\n",
    "    url = f'https://api.openweathermap.org/data/2.5/weather?lat={lat}&lon={lon}&appid={API_key}&units=metric'\n",
    "    response = requests.get(url)\n",
    "    data_weather = response.json()\n",
    "    return data_weather   "
   ]
  },
  {
   "cell_type": "code",
   "execution_count": 4,
   "metadata": {},
   "outputs": [],
   "source": [
    "def verification(diccionario, valor):\n",
    "\n",
    "    for calidad, rango in diccionario.items():\n",
    "        if 'min' in rango and 'max' in rango:\n",
    "            if rango['min'] <= valor < rango['max']:\n",
    "                return calidad\n",
    "        elif 'min' in rango and valor >= rango['min']:\n",
    "            return calidad\n",
    "\n",
    "    return None"
   ]
  },
  {
   "cell_type": "markdown",
   "metadata": {},
   "source": [
    "### Wind"
   ]
  },
  {
   "cell_type": "markdown",
   "metadata": {},
   "source": [
    "|Qualitative name   |Index  |     wind      |\n",
    "|-------------------|-------|---------------|\n",
    "|Calmed down \t    |1 \t    |[0;1.4) \t    |\n",
    "|Soft breeze        |2 \t    |[1.4; 5.4) \t|\n",
    "|Moderate Breeze    |3 \t    |[5.4; 10.6) \t|\n",
    "|Strong wind        |4 \t    |[10.6; 17)     |\n",
    "|Storm   \t        |5 \t    |⩾17 \t        |\n",
    "\n",
    "\n",
    "Unidad: $m/s$   "
   ]
  },
  {
   "cell_type": "code",
   "execution_count": 5,
   "metadata": {},
   "outputs": [],
   "source": [
    "data_weather = GetWeather(config['cities']['Atlixco'])\n",
    "wind_speed = data_weather['wind']['speed']\n",
    "wind_gust = data_weather['wind']['gust']\n",
    "\n",
    "windStandars =  config['notifications']['weather']['wind']"
   ]
  },
  {
   "cell_type": "code",
   "execution_count": 6,
   "metadata": {},
   "outputs": [],
   "source": [
    "def check_wind_speed(diccionario:dict, valor:float):\n",
    "    Index= {'Calmed down':1, 'Soft breeze':2, 'Moderate Breeze':3, 'Strong wind': 4, 'Storm':5, None: 0}\n",
    "    ver_txt = verification(diccionario, valor)\n",
    "    return {'element': 'wind speed','Qualitative name': ver_txt,'Index': Index[ver_txt], 'Value': valor, 'Unit': 'm/s'}"
   ]
  },
  {
   "cell_type": "code",
   "execution_count": 7,
   "metadata": {},
   "outputs": [],
   "source": [
    "# check_wind_speed(windStandars,wind_speed)"
   ]
  },
  {
   "cell_type": "markdown",
   "metadata": {},
   "source": [
    "### Temp"
   ]
  },
  {
   "cell_type": "markdown",
   "metadata": {},
   "source": [
    "|Qualitative name  |Index  |     wind      |\n",
    "|------------------|-------|---------------|\n",
    "|Frozen\t           |1 \t    |[-20,0) \t    |\n",
    "|Cold              |2 \t    |[0,10) \t|\n",
    "|Moderate          |3 \t    |[10,25) \t|\n",
    "|Warm              |4 \t    |[25,35)     |\n",
    "|Very warm         |5 \t    |⩾35        |\n",
    "\n",
    "\n",
    "Unidad: $°C$   \n"
   ]
  },
  {
   "cell_type": "code",
   "execution_count": 8,
   "metadata": {},
   "outputs": [],
   "source": [
    "data_weather = GetWeather(config['cities']['Atlixco'])\n",
    "\n",
    "temp = data_weather['main']['temp'] #°C\n",
    "humidity = data_weather['main']['humidity'] # Humidity, %\n",
    "\n",
    "weatherStandars =  config['notifications']['weather']['temp']"
   ]
  },
  {
   "cell_type": "code",
   "execution_count": 9,
   "metadata": {},
   "outputs": [],
   "source": [
    "def check_temp(diccionario:dict, valor:float):\n",
    "    Index= {'Frozen':1, 'Cold':2, 'Moderate':3, 'Warm': 4, 'Very warm':5, None: 0}\n",
    "    ver_txt = verification(diccionario, valor)\n",
    "    return {'element': 'temp', 'Qualitative name': ver_txt,'Index': Index[ver_txt], 'Value': valor, 'Unit': '°C'}\n"
   ]
  },
  {
   "cell_type": "code",
   "execution_count": 10,
   "metadata": {},
   "outputs": [],
   "source": [
    "# check_temp(weatherStandars,temp)"
   ]
  },
  {
   "cell_type": "markdown",
   "metadata": {},
   "source": [
    "## Air Pollution"
   ]
  },
  {
   "cell_type": "markdown",
   "metadata": {},
   "source": [
    "\n",
    "\n",
    "\n",
    "|Qualitative name   |Index  |$SO_2 $    |$NO_2$        |$PM_{10}$       |$PM_{10.5}$   |$O_3$       |$CO$             |\n",
    "|-------------------|-------|-----------|---------------|---------------|-----------|---------------|-----------------|\n",
    "|Good \t            |1 \t    |[0; 20) \t|[0; 40) \t    |[0; 20) \t    |[0; 10) \t|[0; 60) \t    |[0; 4400)        |\n",
    "|Fair \t            |2 \t    |[20; 80) \t|[40; 70) \t    |[20; 50) \t    |[10; 25) \t|[60; 100) \t    |[4400; 9400)     |\n",
    "|Moderate \t        |3 \t    |[80; 250) \t|[70; 150) \t    |[50; 100) \t    |[25; 50) \t|[100; 140) \t|[9400-12400)     |\n",
    "|Poor \t            |4 \t    |[250; 350) |[150; 200) \t|[100; 200) \t|[50; 75) \t|[140; 180) \t|[12400; 15400)   |\n",
    "|Very Poor \t        |5 \t    |⩾350 \t    |⩾200 \t       |⩾200 \t       | ⩾75 \t  |⩾180 \t       |⩾15400          |\n",
    "\n",
    "\n",
    "La unidad de medida es $\\mu g /m^3$\n",
    "\n",
    "fuente: [Open Weather Map](https://openweathermap.org/api/air-pollution)"
   ]
  },
  {
   "cell_type": "code",
   "execution_count": 11,
   "metadata": {},
   "outputs": [],
   "source": [
    "def GetAirPollution(coord:list):\n",
    "    \"\"\"Coordinates coord= [lat, lon], where lat, lon is latitude and longitude in type float. \\n\n",
    "    Example: [19.29586, -97.768889]. \\n\n",
    "    Invalid formats: 18°55'22.8\\\" N 98°23'44.3\\\"W\"\"\"\n",
    "    lat= coord[0]\n",
    "    lon = coord[1]\n",
    "    API_key=config['API_key']\n",
    "    url = f'http://api.openweathermap.org/data/2.5/air_pollution?lat={lat}&lon={lon}&appid={API_key}&units=metric'\n",
    "    response = requests.get(url)\n",
    "    data_weather = response.json()\n",
    "    return data_weather   "
   ]
  },
  {
   "cell_type": "code",
   "execution_count": 12,
   "metadata": {},
   "outputs": [],
   "source": [
    "data_pollution = GetAirPollution(config['cities']['Atlixco'])\n",
    "so2_lvl  = data_pollution['list'][0]['components']['so2']\n",
    "no2_lvl  = data_pollution['list'][0]['components']['no2']\n",
    "pm10_lvl = data_pollution['list'][0]['components']['pm10']\n",
    "pm2_5_lvl = data_pollution['list'][0]['components']['pm2_5']\n",
    "o3_lvl   = data_pollution['list'][0]['components']['o3']\n",
    "co_lvl   = data_pollution['list'][0]['components']['co']\n",
    "\n",
    "AirPollutionStandars =  config['notifications']['AirPollution']"
   ]
  },
  {
   "cell_type": "markdown",
   "metadata": {},
   "source": [
    "### $SO_2$"
   ]
  },
  {
   "cell_type": "code",
   "execution_count": 13,
   "metadata": {},
   "outputs": [],
   "source": [
    "def check_so2(diccionario:dict, valor:float):\n",
    "    Index = {'Good':1, 'Fair':2, 'Moderate':3, 'Poor': 4, 'Very Poor':5, None: 0}\n",
    "    ver_txt = verification(diccionario, valor)\n",
    "    return {'element': 'pm10','Qualitative name': ver_txt,'Index': Index[ver_txt], 'Value': valor, 'Unit': 'µg/m^3' }"
   ]
  },
  {
   "cell_type": "code",
   "execution_count": 14,
   "metadata": {},
   "outputs": [],
   "source": [
    "\n",
    "# check_so2(AirPollutionStandars['so2'],so2_lvl)"
   ]
  },
  {
   "cell_type": "markdown",
   "metadata": {},
   "source": [
    "### $NO_2$"
   ]
  },
  {
   "cell_type": "code",
   "execution_count": 15,
   "metadata": {},
   "outputs": [],
   "source": [
    "def check_no2(diccionario:dict, valor:float):\n",
    "    Index = {'Good':1, 'Fair':2, 'Moderate':3, 'Poor': 4, 'Very Poor':5, None: 0}\n",
    "    ver_txt = verification(diccionario, valor)\n",
    "    return {'element': 'no2','Qualitative name': ver_txt,'Index': Index[ver_txt], 'Value': valor, 'Unit': 'µg/m^3' }"
   ]
  },
  {
   "cell_type": "code",
   "execution_count": 16,
   "metadata": {},
   "outputs": [],
   "source": [
    "# check_no2(AirPollutionStandars['so2'],so2_lvl)"
   ]
  },
  {
   "cell_type": "markdown",
   "metadata": {},
   "source": [
    "### $PM_{10}$"
   ]
  },
  {
   "cell_type": "code",
   "execution_count": 17,
   "metadata": {},
   "outputs": [],
   "source": [
    "def check_pm10(diccionario:dict, valor:float):\n",
    "    Index = {'Good':1, 'Fair':2, 'Moderate':3, 'Poor': 4, 'Very Poor':5, None: 0}\n",
    "    ver_txt = verification(diccionario, valor)\n",
    "    return {'element': 'pm10','Qualitative name': ver_txt,'Index': Index[ver_txt], 'Value': valor, 'Unit': 'µg/m^3' }"
   ]
  },
  {
   "cell_type": "code",
   "execution_count": 18,
   "metadata": {},
   "outputs": [],
   "source": [
    "# check_pm10(AirPollutionStandars['pm10'],pm10_lvl)"
   ]
  },
  {
   "cell_type": "markdown",
   "metadata": {},
   "source": [
    "## Warnings and notifications"
   ]
  },
  {
   "cell_type": "code",
   "execution_count": 19,
   "metadata": {},
   "outputs": [],
   "source": [
    "def CreateReport(code_name:str):\n",
    "    \"\"\"\n",
    "    Get a report about weather, air pollution from a specific area. \n",
    "\n",
    "    {\n",
    "        'code name': code_name,\n",
    "        'time': 'dd-mm-yyyy hh:mm',\n",
    "        'temp_report'        :      {'element': 'temp', 'Qualitative name': str,'Index': int, 'Value': float, 'Unit': str},\n",
    "        'wind_speed_report'  :      {'element': 'temp', 'Qualitative name': str,'Index': int, 'Value': float, 'Unit': str},\n",
    "        'so2_lvl_report'     :      {'element': 'temp', 'Qualitative name': str,'Index': int, 'Value': float, 'Unit': str},\n",
    "        'no2_lvl_report'     :      {'element': 'temp', 'Qualitative name': str,'Index': int, 'Value': float, 'Unit': str},\n",
    "        'pm10_lvl_report'    :      {'element': 'temp', 'Qualitative name': str,'Index': int, 'Value': float, 'Unit': str}\n",
    "    }\n",
    "\n",
    "    \n",
    "    \"\"\"\n",
    "    coord =config['cities'][code_name]\n",
    "    #date info\n",
    "    date_now = datetime.now()\n",
    "    date_str = date_now.strftime(\"%d-%m-%Y %H:%M\")\n",
    "\n",
    "    #weather\n",
    "    data_weather = GetWeather(coord)\n",
    "    wind_speed   = data_weather['wind']['speed']\n",
    "    temp         = data_weather['main']['temp']\n",
    "\n",
    "    weatherStandars =  config['notifications']['weather']['temp']\n",
    "    #air pollution\n",
    "    data_pollution = GetAirPollution(coord=coord)\n",
    "    so2_lvl        = data_pollution['list'][0]['components']['so2']\n",
    "    no2_lvl        = data_pollution['list'][0]['components']['no2']\n",
    "    pm10_lvl       = data_pollution['list'][0]['components']['pm10']\n",
    "\n",
    "    AirPollutionStandars =  config['notifications']['AirPollution']\n",
    "    #\n",
    "    temp_report       = check_temp(weatherStandars,temp)\n",
    "    wind_speed_report = check_wind_speed(windStandars,wind_speed)\n",
    "    # \n",
    "    so2_lvl_report  = check_so2(AirPollutionStandars['so2'],so2_lvl)\n",
    "    no2_lvl_report  = check_no2(AirPollutionStandars['so2'],no2_lvl)\n",
    "    pm10_lvl_report = check_pm10(AirPollutionStandars['pm10'],pm10_lvl)\n",
    "\n",
    "    return {\n",
    "        'code name': code_name,\n",
    "        'time':date_str,\n",
    "        'temp_report':temp_report,\n",
    "        'wind_speed_report':wind_speed_report,\n",
    "        'so2_lvl_report':so2_lvl_report,\n",
    "        'no2_lvl_report': no2_lvl_report,\n",
    "        'pm10_lvl_report': pm10_lvl_report\n",
    "    }\n",
    "\n"
   ]
  },
  {
   "cell_type": "code",
   "execution_count": 24,
   "metadata": {},
   "outputs": [],
   "source": [
    "def NotificationsAndWarmings(code_name:str, insert=True):\n",
    "    alerts_collection = coneccionDB(config['connection_url'], config['db_ecoterra'], config['alerts_collection'])\n",
    "\n",
    "    report = CreateReport(code_name=code_name)\n",
    "\n",
    "    notifications = {clave: valor for clave, valor in report.items() if isinstance(valor, dict) and valor.get('Index', 0) == config['notifications']['indexNotification']}\n",
    "    if bool(notifications):\n",
    "        \n",
    "        notifications['code name']= report['code name']\n",
    "        notifications['time']= report['time']\n",
    "        notifications['type']= 'Notification'\n",
    "        alerts_collection.insert_one(notifications)\n",
    "\n",
    "    warming  = {clave: valor for clave, valor in report.items() if isinstance(valor, dict) and valor.get('Index', 0) == config['notifications']['indexAlert']}\n",
    "    if bool(warming):\n",
    "        warming['code name']= report['code name']\n",
    "        warming['time']= report['time']\n",
    "        warming['type']= 'Warming'\n",
    "        alerts_collection.insert_one(warming)\n",
    "    \n",
    "    if insert:\n",
    "        report_collection = coneccionDB(config['connection_url'], config['db_ecoterra'], config['weather_collection'])\n",
    "        report_collection.insert_one(report)\n",
    "    \n",
    "    if bool(notifications):\n",
    "        if bool(warming):\n",
    "            return notifications, warming\n",
    "        else: \n",
    "            return notifications\n",
    "    else: \n",
    "        if bool(warming):\n",
    "            return warming\n",
    "        else:\n",
    "            return None"
   ]
  },
  {
   "cell_type": "code",
   "execution_count": 21,
   "metadata": {},
   "outputs": [],
   "source": [
    "# report = CreateReport('Cholula')\n",
    "# notifications = {clave: valor for clave, valor in report.items() if isinstance(valor, dict) and valor.get('Index', 0) == config['notifications']['indexNotification']}\n",
    "# CreateReport('Cholula')"
   ]
  },
  {
   "cell_type": "code",
   "execution_count": 26,
   "metadata": {},
   "outputs": [
    {
     "name": "stdout",
     "output_type": "stream",
     "text": [
      "coneccion exitosa a la coleccion: Ecoterra.alerts\n",
      "coneccion exitosa a la coleccion: Ecoterra.weather\n"
     ]
    },
    {
     "data": {
      "text/plain": [
       "{'temp_report': {'element': 'temp',\n",
       "  'Qualitative name': 'Warm',\n",
       "  'Index': 4,\n",
       "  'Value': 27.69,\n",
       "  'Unit': '°C'},\n",
       " 'code name': 'Cholula',\n",
       " 'time': '23-02-2024 14:26',\n",
       " 'type': 'Notification',\n",
       " '_id': ObjectId('65d8ff8561e3d3261658ef37')}"
      ]
     },
     "execution_count": 26,
     "metadata": {},
     "output_type": "execute_result"
    }
   ],
   "source": [
    "NotificationsAndWarmings('Cholula', True)"
   ]
  },
  {
   "cell_type": "markdown",
   "metadata": {},
   "source": [
    "## Conection to DataBase"
   ]
  },
  {
   "cell_type": "code",
   "execution_count": 27,
   "metadata": {},
   "outputs": [
    {
     "name": "stdout",
     "output_type": "stream",
     "text": [
      "0\n"
     ]
    }
   ],
   "source": [
    "a = ''\n",
    "print(len(a))"
   ]
  },
  {
   "cell_type": "code",
   "execution_count": null,
   "metadata": {},
   "outputs": [],
   "source": [
    "\n",
    "\n"
   ]
  }
 ],
 "metadata": {
  "kernelspec": {
   "display_name": "OpenWeather",
   "language": "python",
   "name": "python3"
  },
  "language_info": {
   "codemirror_mode": {
    "name": "ipython",
    "version": 3
   },
   "file_extension": ".py",
   "mimetype": "text/x-python",
   "name": "python",
   "nbconvert_exporter": "python",
   "pygments_lexer": "ipython3",
   "version": "3.9.18"
  }
 },
 "nbformat": 4,
 "nbformat_minor": 2
}
