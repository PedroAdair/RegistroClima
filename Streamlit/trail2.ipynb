{
 "cells": [
  {
   "cell_type": "code",
   "execution_count": 1,
   "metadata": {},
   "outputs": [],
   "source": [
    "from func import *"
   ]
  },
  {
   "cell_type": "code",
   "execution_count": 19,
   "metadata": {},
   "outputs": [],
   "source": [
    "#aqui van los paraemtros d ela funcion\n",
    "\n",
    "asssets = ['AAPL',\t'MSFT',\t'AMZN',\t'GOOGL']"
   ]
  },
  {
   "cell_type": "code",
   "execution_count": 28,
   "metadata": {},
   "outputs": [
    {
     "data": {
      "text/plain": [
       "4"
      ]
     },
     "execution_count": 28,
     "metadata": {},
     "output_type": "execute_result"
    }
   ],
   "source": [
    "df_complete = load_DB(path='dataAdjClose.csv')  \n",
    "df_complete['Date'] = pd.to_datetime(df_complete['Date']) #change str to datetime Date column\n",
    "df_complete= df_complete.set_index('Date') # return the date column as index\n",
    "filter_df   = df_complete[asssets] # filter about assets list \n",
    "filter_df =  filter_df.dropna() #drop NA records\n",
    "# filder_df.info()\n",
    "# returns\n",
    "returns = (filter_df-filter_df.shift(1))/filter_df.shift(1) #   \n",
    "\n",
    "n_assets = len(filter_df.columns)\n",
    "\n",
    "#variables \n",
    "\n",
    "#redimientos\n",
    "rportafolio = []\n",
    "#desviaciones y varianzas\n",
    "sdportafolio = []\n",
    "#pesos\n",
    "weigths = []\n",
    "\n",
    "\n"
   ]
  },
  {
   "cell_type": "code",
   "execution_count": null,
   "metadata": {},
   "outputs": [],
   "source": [
    "pd.to_datetime"
   ]
  }
 ],
 "metadata": {
  "kernelspec": {
   "display_name": "Financiero",
   "language": "python",
   "name": "python3"
  },
  "language_info": {
   "codemirror_mode": {
    "name": "ipython",
    "version": 3
   },
   "file_extension": ".py",
   "mimetype": "text/x-python",
   "name": "python",
   "nbconvert_exporter": "python",
   "pygments_lexer": "ipython3",
   "version": "3.9.18"
  }
 },
 "nbformat": 4,
 "nbformat_minor": 2
}
